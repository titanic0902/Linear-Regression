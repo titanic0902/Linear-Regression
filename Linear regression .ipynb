{
 "cells": [
  {
   "cell_type": "code",
   "execution_count": 14,
   "id": "963f1303",
   "metadata": {
    "scrolled": false
   },
   "outputs": [],
   "source": [
    "import numpy as np\n",
    "from sklearn.model_selection import train_test_split\n",
    "\n",
    "data = np.loadtxt('0000000000002417_training_boston_x_y_train.csv', delimiter=',')\n",
    "x = data[:, 0]\n",
    "y = data[:, 1]"
   ]
  },
  {
   "cell_type": "code",
   "execution_count": 15,
   "id": "dd6dc68b",
   "metadata": {},
   "outputs": [
    {
     "data": {
      "text/plain": [
       "(379,)"
      ]
     },
     "execution_count": 15,
     "metadata": {},
     "output_type": "execute_result"
    }
   ],
   "source": [
    "x.shape"
   ]
  },
  {
   "cell_type": "code",
   "execution_count": 25,
   "id": "b6bc56ff",
   "metadata": {},
   "outputs": [
    {
     "data": {
      "text/plain": [
       "(284,)"
      ]
     },
     "execution_count": 25,
     "metadata": {},
     "output_type": "execute_result"
    }
   ],
   "source": [
    "from sklearn import model_selection \n",
    "x_train,x_test,y_train,y_test=model_selection.train_test_split(x,y)\n",
    "x_train.shape"
   ]
  },
  {
   "cell_type": "code",
   "execution_count": 26,
   "id": "ab603497",
   "metadata": {},
   "outputs": [],
   "source": [
    "def fit(x_train,y_train):\n",
    "    num =(x_train*y_train).mean()-x_train.mean()*y_train.mean()\n",
    "    den =(x_train**2).mean()-x_train*x.mean()**2\n",
    "    m = num/den\n",
    "    c = y_train.mean()-m*x_train.mean()\n",
    "    return m,c"
   ]
  },
  {
   "cell_type": "code",
   "execution_count": 30,
   "id": "f2bb0023",
   "metadata": {},
   "outputs": [],
   "source": [
    "def predict(x,m,c):\n",
    "    return m * x + c\n",
    "def score(y_truth,y_pred):\n",
    "    u = ((y_truth-y_pred)**2).sum()\n",
    "    v=((y_truth-y_truth.mean())**2).sum()\n",
    "    return 1-u/v\n",
    "def cost(x,y,m,c):\n",
    "    return((y - m * c - c)**2).mean()"
   ]
  },
  {
   "cell_type": "code",
   "execution_count": 35,
   "id": "eb116062",
   "metadata": {},
   "outputs": [
    {
     "name": "stdout",
     "output_type": "stream",
     "text": [
      "cost on training data 0.9075791478320817\n",
      "cost on training data 0.90926815117796\n"
     ]
    }
   ],
   "source": [
    "m,c = fit(x_train,y_train)\n",
    "y_test_pred = predict(x_test,m,c)\n",
    "print(\"Test score\",score(y_test,y_test_pred))\n",
    "Train data\n",
    "y_train_pred = predict(x_train,m,c)\n",
    "print(\"Train score\",score(y_train,y_train_pred))\n",
    "print(\"M,C\",m,c)'''\n",
    "print('cost on training data',cost(x_train,y_train,m,c))\n",
    "print('cost on training data',cost(x_train,y_train,m+1,c))\n",
    "\n"
   ]
  },
  {
   "cell_type": "code",
   "execution_count": null,
   "id": "c3889d37",
   "metadata": {},
   "outputs": [],
   "source": []
  },
  {
   "cell_type": "code",
   "execution_count": null,
   "id": "f0b5dd02",
   "metadata": {},
   "outputs": [],
   "source": []
  },
  {
   "cell_type": "code",
   "execution_count": null,
   "id": "e3e60b01",
   "metadata": {},
   "outputs": [],
   "source": []
  }
 ],
 "metadata": {
  "kernelspec": {
   "display_name": "Python 3 (ipykernel)",
   "language": "python",
   "name": "python3"
  },
  "language_info": {
   "codemirror_mode": {
    "name": "ipython",
    "version": 3
   },
   "file_extension": ".py",
   "mimetype": "text/x-python",
   "name": "python",
   "nbconvert_exporter": "python",
   "pygments_lexer": "ipython3",
   "version": "3.10.9"
  }
 },
 "nbformat": 4,
 "nbformat_minor": 5
}
